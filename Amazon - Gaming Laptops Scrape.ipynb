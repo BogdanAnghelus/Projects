{
 "cells": [
  {
   "cell_type": "markdown",
   "metadata": {},
   "source": [
    "### Import Packages"
   ]
  },
  {
   "cell_type": "code",
   "execution_count": 1,
   "metadata": {},
   "outputs": [],
   "source": [
    "from selenium import webdriver\n",
    "import pandas as pd\n",
    "import time"
   ]
  },
  {
   "cell_type": "markdown",
   "metadata": {},
   "source": [
    "### Set Up"
   ]
  },
  {
   "cell_type": "code",
   "execution_count": 2,
   "metadata": {},
   "outputs": [],
   "source": [
    "driver = webdriver.Chrome(executable_path='C:/webdrivers/chromedriver.exe')\n",
    "driver.get('https://www.amazon.com/s?k=laptop&i=computers&rh=n%3A565108%2Cp_n_feature_six_browse-bin%3A23534088011%2Cp_n_graphics_type_browse-bin%3A14292273011%2Cp_n_feature_twelve_browse-bin%3A9521908011&s=relevancerank&dc&qid=1629721204&rnid=9521907011&ref=sr_pg_1')\n",
    "driver.maximize_window()\n",
    "time.sleep(1)"
   ]
  },
  {
   "cell_type": "markdown",
   "metadata": {},
   "source": [
    "### Target The Data We Want To Scrape"
   ]
  },
  {
   "cell_type": "code",
   "execution_count": 35,
   "metadata": {},
   "outputs": [],
   "source": [
    "# names\n",
    "names = driver.find_elements_by_xpath('//h2[@class=\"a-size-mini a-spacing-none a-color-base s-line-clamp-2\"]/a/span')\n",
    "\n",
    "# prices\n",
    "prices = driver.find_elements_by_xpath('//span[@class=\"a-price-whole\"]')\n",
    "\n",
    "# stars\n",
    "stars = driver.find_elements_by_xpath('//div[@class=\"a-row a-size-small\"]/span')\n",
    "\n",
    "# rating count\n",
    "rating = driver.find_elements_by_xpath('//span[@class=\"a-size-base\"]')\n",
    "\n",
    "# ships to Romania\n",
    "shipping = driver.find_elements_by_xpath('//div[@class=\"a-row a-size-base a-color-secondary s-align-children-center\"]/span')"
   ]
  },
  {
   "cell_type": "code",
   "execution_count": 38,
   "metadata": {},
   "outputs": [],
   "source": [
    "#for ss in shipping:\n",
    "#       print(ss.text)"
   ]
  },
  {
   "cell_type": "markdown",
   "metadata": {},
   "source": [
    "### Loop and Append to List"
   ]
  },
  {
   "cell_type": "code",
   "execution_count": 39,
   "metadata": {},
   "outputs": [],
   "source": [
    "names_list = []\n",
    "prices_list = []\n",
    "stars_list = []\n",
    "rating_count_list = []\n",
    "shipping_list = []"
   ]
  },
  {
   "cell_type": "code",
   "execution_count": 41,
   "metadata": {},
   "outputs": [],
   "source": [
    "for n in names:\n",
    "    names_list.append(n.text)\n",
    "\n",
    "for p in prices:\n",
    "    prices_list.append(p.text)\n",
    "\n",
    "for s in stars:\n",
    "    stars_list.stars_append(s.get_attribute('aria-label'))\n",
    "\n",
    "for r in rating:\n",
    "    rating_count_list.append(r.text)\n",
    "    \n",
    "for ss in shipping:\n",
    "    shipping_list.append(ss.text)"
   ]
  },
  {
   "cell_type": "code",
   "execution_count": 49,
   "metadata": {},
   "outputs": [],
   "source": [
    "# at postion 22 from prices_list we have to insert 0"
   ]
  },
  {
   "cell_type": "code",
   "execution_count": 61,
   "metadata": {},
   "outputs": [],
   "source": [
    "prices_list.insert(22,0)"
   ]
  },
  {
   "cell_type": "code",
   "execution_count": 62,
   "metadata": {},
   "outputs": [
    {
     "data": {
      "text/plain": [
       "28"
      ]
     },
     "execution_count": 62,
     "metadata": {},
     "output_type": "execute_result"
    }
   ],
   "source": [
    "len(prices_list)"
   ]
  },
  {
   "cell_type": "code",
   "execution_count": 57,
   "metadata": {},
   "outputs": [],
   "source": [
    "# remove the 2nd element from stars list and at the position 11 insert 0"
   ]
  },
  {
   "cell_type": "code",
   "execution_count": 81,
   "metadata": {},
   "outputs": [],
   "source": [
    "str_lst = stars_list[0:55:2]"
   ]
  },
  {
   "cell_type": "code",
   "execution_count": 84,
   "metadata": {},
   "outputs": [],
   "source": [
    "str_lst.insert(11,0)"
   ]
  },
  {
   "cell_type": "code",
   "execution_count": 85,
   "metadata": {},
   "outputs": [],
   "source": [
    "# remove the last elements from rating count and at the position 11 insert 0"
   ]
  },
  {
   "cell_type": "code",
   "execution_count": 89,
   "metadata": {},
   "outputs": [],
   "source": [
    "rt_lst = rating_count_list[0:27]"
   ]
  },
  {
   "cell_type": "code",
   "execution_count": 90,
   "metadata": {},
   "outputs": [],
   "source": [
    "rt_lst.insert(11,0)"
   ]
  },
  {
   "cell_type": "code",
   "execution_count": 60,
   "metadata": {},
   "outputs": [],
   "source": [
    "# at postion 22 from shipping we have to insert 0"
   ]
  },
  {
   "cell_type": "code",
   "execution_count": 91,
   "metadata": {},
   "outputs": [],
   "source": [
    "shipping_list.insert(22,0)"
   ]
  },
  {
   "cell_type": "code",
   "execution_count": null,
   "metadata": {},
   "outputs": [],
   "source": []
  },
  {
   "cell_type": "markdown",
   "metadata": {},
   "source": [
    "### Dictionary"
   ]
  },
  {
   "cell_type": "code",
   "execution_count": 92,
   "metadata": {},
   "outputs": [],
   "source": [
    "gaming_laptops = {'Name':names_list, 'Price':prices_list, 'Stars':str_lst, 'Rating_Count':rt_lst,\n",
    "                  'Shipping':shipping_list}"
   ]
  },
  {
   "cell_type": "markdown",
   "metadata": {},
   "source": [
    "### Dictionary to Pandas Dataframe"
   ]
  },
  {
   "cell_type": "code",
   "execution_count": 93,
   "metadata": {},
   "outputs": [],
   "source": [
    "df = pd.DataFrame.from_dict(gaming_laptops)"
   ]
  },
  {
   "cell_type": "code",
   "execution_count": 94,
   "metadata": {},
   "outputs": [
    {
     "data": {
      "text/html": [
       "<div>\n",
       "<style scoped>\n",
       "    .dataframe tbody tr th:only-of-type {\n",
       "        vertical-align: middle;\n",
       "    }\n",
       "\n",
       "    .dataframe tbody tr th {\n",
       "        vertical-align: top;\n",
       "    }\n",
       "\n",
       "    .dataframe thead th {\n",
       "        text-align: right;\n",
       "    }\n",
       "</style>\n",
       "<table border=\"1\" class=\"dataframe\">\n",
       "  <thead>\n",
       "    <tr style=\"text-align: right;\">\n",
       "      <th></th>\n",
       "      <th>Name</th>\n",
       "      <th>Price</th>\n",
       "      <th>Stars</th>\n",
       "      <th>Rating_Count</th>\n",
       "      <th>Shipping</th>\n",
       "    </tr>\n",
       "  </thead>\n",
       "  <tbody>\n",
       "    <tr>\n",
       "      <th>0</th>\n",
       "      <td>MSI Stealth 15M Gaming Laptop: 15.6\" 144Hz FHD...</td>\n",
       "      <td>1,399</td>\n",
       "      <td>4.3 out of 5 stars</td>\n",
       "      <td>51</td>\n",
       "      <td>Ships to Romania</td>\n",
       "    </tr>\n",
       "    <tr>\n",
       "      <th>1</th>\n",
       "      <td>MSI GL66 Gaming Laptop: 15.6\" 144Hz FHD 1080p ...</td>\n",
       "      <td>1,499</td>\n",
       "      <td>4.1 out of 5 stars</td>\n",
       "      <td>52</td>\n",
       "      <td>Ships to Romania</td>\n",
       "    </tr>\n",
       "    <tr>\n",
       "      <th>2</th>\n",
       "      <td>Acer Nitro 5 AN515-55-53E5 Gaming Laptop | Int...</td>\n",
       "      <td>839</td>\n",
       "      <td>4.7 out of 5 stars</td>\n",
       "      <td>3,882</td>\n",
       "      <td>Ships to Romania</td>\n",
       "    </tr>\n",
       "    <tr>\n",
       "      <th>3</th>\n",
       "      <td>Lenovo Legion 5 15 Gaming Laptop, 15.6\" FHD (1...</td>\n",
       "      <td>1,049</td>\n",
       "      <td>4.4 out of 5 stars</td>\n",
       "      <td>92</td>\n",
       "      <td>Ships to Romania</td>\n",
       "    </tr>\n",
       "    <tr>\n",
       "      <th>4</th>\n",
       "      <td>Razer Blade 15 Base Gaming Laptop 2020: Intel ...</td>\n",
       "      <td>1,152</td>\n",
       "      <td>4.5 out of 5 stars</td>\n",
       "      <td>1,511</td>\n",
       "      <td>Ships to Romania</td>\n",
       "    </tr>\n",
       "  </tbody>\n",
       "</table>\n",
       "</div>"
      ],
      "text/plain": [
       "                                                Name  Price  \\\n",
       "0  MSI Stealth 15M Gaming Laptop: 15.6\" 144Hz FHD...  1,399   \n",
       "1  MSI GL66 Gaming Laptop: 15.6\" 144Hz FHD 1080p ...  1,499   \n",
       "2  Acer Nitro 5 AN515-55-53E5 Gaming Laptop | Int...    839   \n",
       "3  Lenovo Legion 5 15 Gaming Laptop, 15.6\" FHD (1...  1,049   \n",
       "4  Razer Blade 15 Base Gaming Laptop 2020: Intel ...  1,152   \n",
       "\n",
       "                Stars Rating_Count          Shipping  \n",
       "0  4.3 out of 5 stars           51  Ships to Romania  \n",
       "1  4.1 out of 5 stars           52  Ships to Romania  \n",
       "2  4.7 out of 5 stars        3,882  Ships to Romania  \n",
       "3  4.4 out of 5 stars           92  Ships to Romania  \n",
       "4  4.5 out of 5 stars        1,511  Ships to Romania  "
      ]
     },
     "execution_count": 94,
     "metadata": {},
     "output_type": "execute_result"
    }
   ],
   "source": [
    "df.head()"
   ]
  },
  {
   "cell_type": "markdown",
   "metadata": {},
   "source": [
    "### Clean the Data"
   ]
  },
  {
   "cell_type": "code",
   "execution_count": 95,
   "metadata": {},
   "outputs": [
    {
     "name": "stdout",
     "output_type": "stream",
     "text": [
      "<class 'pandas.core.frame.DataFrame'>\n",
      "RangeIndex: 28 entries, 0 to 27\n",
      "Data columns (total 5 columns):\n",
      " #   Column        Non-Null Count  Dtype \n",
      "---  ------        --------------  ----- \n",
      " 0   Name          28 non-null     object\n",
      " 1   Price         28 non-null     object\n",
      " 2   Stars         28 non-null     object\n",
      " 3   Rating_Count  28 non-null     object\n",
      " 4   Shipping      28 non-null     object\n",
      "dtypes: object(5)\n",
      "memory usage: 1.2+ KB\n"
     ]
    }
   ],
   "source": [
    "df.info()"
   ]
  },
  {
   "cell_type": "code",
   "execution_count": 103,
   "metadata": {},
   "outputs": [],
   "source": [
    "df3 = df.copy()"
   ]
  },
  {
   "cell_type": "code",
   "execution_count": 118,
   "metadata": {},
   "outputs": [],
   "source": [
    "df3['Stars'] = df3.Stars.str.strip('out of 5 stars')"
   ]
  },
  {
   "cell_type": "code",
   "execution_count": 120,
   "metadata": {},
   "outputs": [
    {
     "data": {
      "text/html": [
       "<div>\n",
       "<style scoped>\n",
       "    .dataframe tbody tr th:only-of-type {\n",
       "        vertical-align: middle;\n",
       "    }\n",
       "\n",
       "    .dataframe tbody tr th {\n",
       "        vertical-align: top;\n",
       "    }\n",
       "\n",
       "    .dataframe thead th {\n",
       "        text-align: right;\n",
       "    }\n",
       "</style>\n",
       "<table border=\"1\" class=\"dataframe\">\n",
       "  <thead>\n",
       "    <tr style=\"text-align: right;\">\n",
       "      <th></th>\n",
       "      <th>Name</th>\n",
       "      <th>Price</th>\n",
       "      <th>Stars</th>\n",
       "      <th>Rating_Count</th>\n",
       "      <th>Shipping</th>\n",
       "    </tr>\n",
       "  </thead>\n",
       "  <tbody>\n",
       "    <tr>\n",
       "      <th>0</th>\n",
       "      <td>MSI Stealth 15M Gaming Laptop: 15.6\" 144Hz FHD...</td>\n",
       "      <td>1399</td>\n",
       "      <td>4.3</td>\n",
       "      <td>51</td>\n",
       "      <td>Ships to Romania</td>\n",
       "    </tr>\n",
       "    <tr>\n",
       "      <th>1</th>\n",
       "      <td>MSI GL66 Gaming Laptop: 15.6\" 144Hz FHD 1080p ...</td>\n",
       "      <td>1499</td>\n",
       "      <td>4.1</td>\n",
       "      <td>52</td>\n",
       "      <td>Ships to Romania</td>\n",
       "    </tr>\n",
       "    <tr>\n",
       "      <th>2</th>\n",
       "      <td>Acer Nitro 5 AN515-55-53E5 Gaming Laptop | Int...</td>\n",
       "      <td>839</td>\n",
       "      <td>4.7</td>\n",
       "      <td>3,882</td>\n",
       "      <td>Ships to Romania</td>\n",
       "    </tr>\n",
       "    <tr>\n",
       "      <th>3</th>\n",
       "      <td>Lenovo Legion 5 15 Gaming Laptop, 15.6\" FHD (1...</td>\n",
       "      <td>1049</td>\n",
       "      <td>4.4</td>\n",
       "      <td>92</td>\n",
       "      <td>Ships to Romania</td>\n",
       "    </tr>\n",
       "    <tr>\n",
       "      <th>4</th>\n",
       "      <td>Razer Blade 15 Base Gaming Laptop 2020: Intel ...</td>\n",
       "      <td>1152</td>\n",
       "      <td>4.</td>\n",
       "      <td>1,511</td>\n",
       "      <td>Ships to Romania</td>\n",
       "    </tr>\n",
       "  </tbody>\n",
       "</table>\n",
       "</div>"
      ],
      "text/plain": [
       "                                                Name Price Stars Rating_Count  \\\n",
       "0  MSI Stealth 15M Gaming Laptop: 15.6\" 144Hz FHD...  1399   4.3           51   \n",
       "1  MSI GL66 Gaming Laptop: 15.6\" 144Hz FHD 1080p ...  1499   4.1           52   \n",
       "2  Acer Nitro 5 AN515-55-53E5 Gaming Laptop | Int...   839   4.7        3,882   \n",
       "3  Lenovo Legion 5 15 Gaming Laptop, 15.6\" FHD (1...  1049   4.4           92   \n",
       "4  Razer Blade 15 Base Gaming Laptop 2020: Intel ...  1152    4.        1,511   \n",
       "\n",
       "           Shipping  \n",
       "0  Ships to Romania  \n",
       "1  Ships to Romania  \n",
       "2  Ships to Romania  \n",
       "3  Ships to Romania  \n",
       "4  Ships to Romania  "
      ]
     },
     "execution_count": 120,
     "metadata": {},
     "output_type": "execute_result"
    }
   ],
   "source": [
    "df3.head()"
   ]
  },
  {
   "cell_type": "markdown",
   "metadata": {},
   "source": [
    "### Save Data in Excel"
   ]
  },
  {
   "cell_type": "code",
   "execution_count": 121,
   "metadata": {},
   "outputs": [],
   "source": [
    "df3.to_excel('amazon_latops.xlsx',index=False)"
   ]
  },
  {
   "cell_type": "code",
   "execution_count": null,
   "metadata": {},
   "outputs": [],
   "source": []
  }
 ],
 "metadata": {
  "kernelspec": {
   "display_name": "Python 3",
   "language": "python",
   "name": "python3"
  },
  "language_info": {
   "codemirror_mode": {
    "name": "ipython",
    "version": 3
   },
   "file_extension": ".py",
   "mimetype": "text/x-python",
   "name": "python",
   "nbconvert_exporter": "python",
   "pygments_lexer": "ipython3",
   "version": "3.8.8"
  }
 },
 "nbformat": 4,
 "nbformat_minor": 4
}
