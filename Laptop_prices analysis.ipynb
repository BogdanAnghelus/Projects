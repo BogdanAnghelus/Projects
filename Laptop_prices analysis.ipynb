{
 "cells": [
  {
   "cell_type": "code",
   "execution_count": 1,
   "id": "3466e222",
   "metadata": {},
   "outputs": [],
   "source": [
    "# The dataset was taken from https://www.kaggle.com/asifraza14/laptop-price-prediction-using-specifications\n",
    "# Perform some basic EDA and Data Cleaning\n",
    "# Build a simple RandomForestRegressor for predicting the laptops prices"
   ]
  },
  {
   "cell_type": "code",
   "execution_count": 2,
   "id": "742e3bf7",
   "metadata": {},
   "outputs": [],
   "source": [
    "import pandas as pd\n",
    "import numpy as np\n",
    "import matplotlib.pyplot as plt\n",
    "import re as re"
   ]
  },
  {
   "cell_type": "code",
   "execution_count": 3,
   "id": "d7f3b28f",
   "metadata": {},
   "outputs": [],
   "source": [
    "laptop = pd.read_csv(\"C:/Users/User/Desktop/DS/Datasets/Laptop_prices/laptop_price.csv\")"
   ]
  },
  {
   "cell_type": "code",
   "execution_count": 4,
   "id": "de569091",
   "metadata": {
    "scrolled": true
   },
   "outputs": [
    {
     "data": {
      "text/html": [
       "<div>\n",
       "<style scoped>\n",
       "    .dataframe tbody tr th:only-of-type {\n",
       "        vertical-align: middle;\n",
       "    }\n",
       "\n",
       "    .dataframe tbody tr th {\n",
       "        vertical-align: top;\n",
       "    }\n",
       "\n",
       "    .dataframe thead th {\n",
       "        text-align: right;\n",
       "    }\n",
       "</style>\n",
       "<table border=\"1\" class=\"dataframe\">\n",
       "  <thead>\n",
       "    <tr style=\"text-align: right;\">\n",
       "      <th></th>\n",
       "      <th>Unnamed: 0</th>\n",
       "      <th>Name</th>\n",
       "      <th>Processor</th>\n",
       "      <th>RAM</th>\n",
       "      <th>Operating System</th>\n",
       "      <th>Storage</th>\n",
       "      <th>Display</th>\n",
       "      <th>Warranty</th>\n",
       "      <th>Price</th>\n",
       "      <th>rating</th>\n",
       "    </tr>\n",
       "  </thead>\n",
       "  <tbody>\n",
       "    <tr>\n",
       "      <th>0</th>\n",
       "      <td>0</td>\n",
       "      <td>Lenovo Ideapad S145 Core i5 10th Gen - (8 GB/1...</td>\n",
       "      <td>Intel Core i5 Processor (10th Gen)</td>\n",
       "      <td>8 GB DDR4 RAM</td>\n",
       "      <td>64 bit Windows 10 Operating System</td>\n",
       "      <td>1 TB HDD</td>\n",
       "      <td>39.62 cm (15.6 inch) Display</td>\n",
       "      <td>1 Year Onsite Warranty</td>\n",
       "      <td>₹43,990</td>\n",
       "      <td>3.9</td>\n",
       "    </tr>\n",
       "    <tr>\n",
       "      <th>1</th>\n",
       "      <td>1</td>\n",
       "      <td>Lenovo IdeaPad Core i3 11th Gen - (8 GB/256 GB...</td>\n",
       "      <td>Intel Core i3 Processor (11th Gen)</td>\n",
       "      <td>8 GB DDR4 RAM</td>\n",
       "      <td>64 bit Windows 10 Operating System</td>\n",
       "      <td>256 GB SSD</td>\n",
       "      <td>35.56 cm (14 Inch) Display</td>\n",
       "      <td>1 Year Onsite Warranty</td>\n",
       "      <td>₹43,990</td>\n",
       "      <td>4.2</td>\n",
       "    </tr>\n",
       "    <tr>\n",
       "      <th>2</th>\n",
       "      <td>2</td>\n",
       "      <td>HP Pentium Quad Core - (8 GB/256 GB SSD/Window...</td>\n",
       "      <td>Intel Pentium Quad Core Processor</td>\n",
       "      <td>8 GB DDR4 RAM</td>\n",
       "      <td>64 bit Windows 10 Operating System</td>\n",
       "      <td>256 GB SSD</td>\n",
       "      <td>35.56 cm (14 inch) Display</td>\n",
       "      <td>1 Year Onsite Warranty</td>\n",
       "      <td>₹31,490</td>\n",
       "      <td>4.6</td>\n",
       "    </tr>\n",
       "    <tr>\n",
       "      <th>3</th>\n",
       "      <td>3</td>\n",
       "      <td>HP 14s Core i3 11th Gen - (8 GB/256 GB SSD/Win...</td>\n",
       "      <td>Intel Core i3 Processor (11th Gen)</td>\n",
       "      <td>8 GB DDR4 RAM</td>\n",
       "      <td>64 bit Windows 10 Operating System</td>\n",
       "      <td>256 GB SSD</td>\n",
       "      <td>35.56 cm (14 inch) Display</td>\n",
       "      <td>1 Year Onsite Warranty</td>\n",
       "      <td>₹40,990</td>\n",
       "      <td>4.1</td>\n",
       "    </tr>\n",
       "    <tr>\n",
       "      <th>4</th>\n",
       "      <td>4</td>\n",
       "      <td>HP 15s Athlon Dual Core - (4 GB/1 TB HDD/Windo...</td>\n",
       "      <td>AMD Athlon Dual Core Processor</td>\n",
       "      <td>4 GB DDR4 RAM</td>\n",
       "      <td>64 bit Windows 10 Operating System</td>\n",
       "      <td>1 TB HDD</td>\n",
       "      <td>39.62 cm (15.6 inch) Display</td>\n",
       "      <td>1 Year Onsite Warranty</td>\n",
       "      <td>₹27,490</td>\n",
       "      <td>4.1</td>\n",
       "    </tr>\n",
       "  </tbody>\n",
       "</table>\n",
       "</div>"
      ],
      "text/plain": [
       "   Unnamed: 0                                               Name  \\\n",
       "0           0  Lenovo Ideapad S145 Core i5 10th Gen - (8 GB/1...   \n",
       "1           1  Lenovo IdeaPad Core i3 11th Gen - (8 GB/256 GB...   \n",
       "2           2  HP Pentium Quad Core - (8 GB/256 GB SSD/Window...   \n",
       "3           3  HP 14s Core i3 11th Gen - (8 GB/256 GB SSD/Win...   \n",
       "4           4  HP 15s Athlon Dual Core - (4 GB/1 TB HDD/Windo...   \n",
       "\n",
       "                            Processor            RAM  \\\n",
       "0  Intel Core i5 Processor (10th Gen)  8 GB DDR4 RAM   \n",
       "1  Intel Core i3 Processor (11th Gen)  8 GB DDR4 RAM   \n",
       "2   Intel Pentium Quad Core Processor  8 GB DDR4 RAM   \n",
       "3  Intel Core i3 Processor (11th Gen)  8 GB DDR4 RAM   \n",
       "4      AMD Athlon Dual Core Processor  4 GB DDR4 RAM   \n",
       "\n",
       "                     Operating System     Storage  \\\n",
       "0  64 bit Windows 10 Operating System    1 TB HDD   \n",
       "1  64 bit Windows 10 Operating System  256 GB SSD   \n",
       "2  64 bit Windows 10 Operating System  256 GB SSD   \n",
       "3  64 bit Windows 10 Operating System  256 GB SSD   \n",
       "4  64 bit Windows 10 Operating System    1 TB HDD   \n",
       "\n",
       "                        Display                Warranty    Price  rating  \n",
       "0  39.62 cm (15.6 inch) Display  1 Year Onsite Warranty  ₹43,990     3.9  \n",
       "1    35.56 cm (14 Inch) Display  1 Year Onsite Warranty  ₹43,990     4.2  \n",
       "2    35.56 cm (14 inch) Display  1 Year Onsite Warranty  ₹31,490     4.6  \n",
       "3    35.56 cm (14 inch) Display  1 Year Onsite Warranty  ₹40,990     4.1  \n",
       "4  39.62 cm (15.6 inch) Display  1 Year Onsite Warranty  ₹27,490     4.1  "
      ]
     },
     "execution_count": 4,
     "metadata": {},
     "output_type": "execute_result"
    }
   ],
   "source": [
    "laptop.head()"
   ]
  },
  {
   "cell_type": "markdown",
   "id": "1204fbae",
   "metadata": {},
   "source": [
    "# Data Cleaning"
   ]
  },
  {
   "cell_type": "code",
   "execution_count": 5,
   "id": "8e58dd2b",
   "metadata": {},
   "outputs": [],
   "source": [
    "laptop.drop(\"Unnamed: 0\",axis=1,inplace=True)"
   ]
  },
  {
   "cell_type": "code",
   "execution_count": 6,
   "id": "2b0b73d5",
   "metadata": {},
   "outputs": [
    {
     "data": {
      "text/html": [
       "<div>\n",
       "<style scoped>\n",
       "    .dataframe tbody tr th:only-of-type {\n",
       "        vertical-align: middle;\n",
       "    }\n",
       "\n",
       "    .dataframe tbody tr th {\n",
       "        vertical-align: top;\n",
       "    }\n",
       "\n",
       "    .dataframe thead th {\n",
       "        text-align: right;\n",
       "    }\n",
       "</style>\n",
       "<table border=\"1\" class=\"dataframe\">\n",
       "  <thead>\n",
       "    <tr style=\"text-align: right;\">\n",
       "      <th></th>\n",
       "      <th>Name</th>\n",
       "      <th>Processor</th>\n",
       "      <th>RAM</th>\n",
       "      <th>Operating System</th>\n",
       "      <th>Storage</th>\n",
       "      <th>Display</th>\n",
       "      <th>Warranty</th>\n",
       "      <th>Price</th>\n",
       "      <th>rating</th>\n",
       "    </tr>\n",
       "  </thead>\n",
       "  <tbody>\n",
       "    <tr>\n",
       "      <th>0</th>\n",
       "      <td>Lenovo Ideapad S145 Core i5 10th Gen - (8 GB/1...</td>\n",
       "      <td>Intel Core i5 Processor (10th Gen)</td>\n",
       "      <td>8 GB DDR4 RAM</td>\n",
       "      <td>64 bit Windows 10 Operating System</td>\n",
       "      <td>1 TB HDD</td>\n",
       "      <td>39.62 cm (15.6 inch) Display</td>\n",
       "      <td>1 Year Onsite Warranty</td>\n",
       "      <td>₹43,990</td>\n",
       "      <td>3.9</td>\n",
       "    </tr>\n",
       "    <tr>\n",
       "      <th>1</th>\n",
       "      <td>Lenovo IdeaPad Core i3 11th Gen - (8 GB/256 GB...</td>\n",
       "      <td>Intel Core i3 Processor (11th Gen)</td>\n",
       "      <td>8 GB DDR4 RAM</td>\n",
       "      <td>64 bit Windows 10 Operating System</td>\n",
       "      <td>256 GB SSD</td>\n",
       "      <td>35.56 cm (14 Inch) Display</td>\n",
       "      <td>1 Year Onsite Warranty</td>\n",
       "      <td>₹43,990</td>\n",
       "      <td>4.2</td>\n",
       "    </tr>\n",
       "    <tr>\n",
       "      <th>2</th>\n",
       "      <td>HP Pentium Quad Core - (8 GB/256 GB SSD/Window...</td>\n",
       "      <td>Intel Pentium Quad Core Processor</td>\n",
       "      <td>8 GB DDR4 RAM</td>\n",
       "      <td>64 bit Windows 10 Operating System</td>\n",
       "      <td>256 GB SSD</td>\n",
       "      <td>35.56 cm (14 inch) Display</td>\n",
       "      <td>1 Year Onsite Warranty</td>\n",
       "      <td>₹31,490</td>\n",
       "      <td>4.6</td>\n",
       "    </tr>\n",
       "    <tr>\n",
       "      <th>3</th>\n",
       "      <td>HP 14s Core i3 11th Gen - (8 GB/256 GB SSD/Win...</td>\n",
       "      <td>Intel Core i3 Processor (11th Gen)</td>\n",
       "      <td>8 GB DDR4 RAM</td>\n",
       "      <td>64 bit Windows 10 Operating System</td>\n",
       "      <td>256 GB SSD</td>\n",
       "      <td>35.56 cm (14 inch) Display</td>\n",
       "      <td>1 Year Onsite Warranty</td>\n",
       "      <td>₹40,990</td>\n",
       "      <td>4.1</td>\n",
       "    </tr>\n",
       "    <tr>\n",
       "      <th>4</th>\n",
       "      <td>HP 15s Athlon Dual Core - (4 GB/1 TB HDD/Windo...</td>\n",
       "      <td>AMD Athlon Dual Core Processor</td>\n",
       "      <td>4 GB DDR4 RAM</td>\n",
       "      <td>64 bit Windows 10 Operating System</td>\n",
       "      <td>1 TB HDD</td>\n",
       "      <td>39.62 cm (15.6 inch) Display</td>\n",
       "      <td>1 Year Onsite Warranty</td>\n",
       "      <td>₹27,490</td>\n",
       "      <td>4.1</td>\n",
       "    </tr>\n",
       "  </tbody>\n",
       "</table>\n",
       "</div>"
      ],
      "text/plain": [
       "                                                Name  \\\n",
       "0  Lenovo Ideapad S145 Core i5 10th Gen - (8 GB/1...   \n",
       "1  Lenovo IdeaPad Core i3 11th Gen - (8 GB/256 GB...   \n",
       "2  HP Pentium Quad Core - (8 GB/256 GB SSD/Window...   \n",
       "3  HP 14s Core i3 11th Gen - (8 GB/256 GB SSD/Win...   \n",
       "4  HP 15s Athlon Dual Core - (4 GB/1 TB HDD/Windo...   \n",
       "\n",
       "                            Processor            RAM  \\\n",
       "0  Intel Core i5 Processor (10th Gen)  8 GB DDR4 RAM   \n",
       "1  Intel Core i3 Processor (11th Gen)  8 GB DDR4 RAM   \n",
       "2   Intel Pentium Quad Core Processor  8 GB DDR4 RAM   \n",
       "3  Intel Core i3 Processor (11th Gen)  8 GB DDR4 RAM   \n",
       "4      AMD Athlon Dual Core Processor  4 GB DDR4 RAM   \n",
       "\n",
       "                     Operating System     Storage  \\\n",
       "0  64 bit Windows 10 Operating System    1 TB HDD   \n",
       "1  64 bit Windows 10 Operating System  256 GB SSD   \n",
       "2  64 bit Windows 10 Operating System  256 GB SSD   \n",
       "3  64 bit Windows 10 Operating System  256 GB SSD   \n",
       "4  64 bit Windows 10 Operating System    1 TB HDD   \n",
       "\n",
       "                        Display                Warranty    Price  rating  \n",
       "0  39.62 cm (15.6 inch) Display  1 Year Onsite Warranty  ₹43,990     3.9  \n",
       "1    35.56 cm (14 Inch) Display  1 Year Onsite Warranty  ₹43,990     4.2  \n",
       "2    35.56 cm (14 inch) Display  1 Year Onsite Warranty  ₹31,490     4.6  \n",
       "3    35.56 cm (14 inch) Display  1 Year Onsite Warranty  ₹40,990     4.1  \n",
       "4  39.62 cm (15.6 inch) Display  1 Year Onsite Warranty  ₹27,490     4.1  "
      ]
     },
     "execution_count": 6,
     "metadata": {},
     "output_type": "execute_result"
    }
   ],
   "source": [
    "laptop.head()"
   ]
  },
  {
   "cell_type": "code",
   "execution_count": 7,
   "id": "6ec18283",
   "metadata": {},
   "outputs": [],
   "source": [
    "df = laptop.copy()"
   ]
  },
  {
   "cell_type": "code",
   "execution_count": 8,
   "id": "94efb42c",
   "metadata": {},
   "outputs": [
    {
     "data": {
      "text/html": [
       "<div>\n",
       "<style scoped>\n",
       "    .dataframe tbody tr th:only-of-type {\n",
       "        vertical-align: middle;\n",
       "    }\n",
       "\n",
       "    .dataframe tbody tr th {\n",
       "        vertical-align: top;\n",
       "    }\n",
       "\n",
       "    .dataframe thead th {\n",
       "        text-align: right;\n",
       "    }\n",
       "</style>\n",
       "<table border=\"1\" class=\"dataframe\">\n",
       "  <thead>\n",
       "    <tr style=\"text-align: right;\">\n",
       "      <th></th>\n",
       "      <th>Name</th>\n",
       "      <th>Processor</th>\n",
       "      <th>RAM</th>\n",
       "      <th>Operating System</th>\n",
       "      <th>Storage</th>\n",
       "      <th>Display</th>\n",
       "      <th>Warranty</th>\n",
       "      <th>Price</th>\n",
       "      <th>rating</th>\n",
       "    </tr>\n",
       "  </thead>\n",
       "  <tbody>\n",
       "    <tr>\n",
       "      <th>0</th>\n",
       "      <td>Lenovo Ideapad S145 Core i5 10th Gen - (8 GB/1...</td>\n",
       "      <td>Intel Core i5 Processor (10th Gen)</td>\n",
       "      <td>8 GB DDR4 RAM</td>\n",
       "      <td>64 bit Windows 10 Operating System</td>\n",
       "      <td>1 TB HDD</td>\n",
       "      <td>39.62 cm (15.6 inch) Display</td>\n",
       "      <td>1 Year Onsite Warranty</td>\n",
       "      <td>₹43,990</td>\n",
       "      <td>3.9</td>\n",
       "    </tr>\n",
       "    <tr>\n",
       "      <th>1</th>\n",
       "      <td>Lenovo IdeaPad Core i3 11th Gen - (8 GB/256 GB...</td>\n",
       "      <td>Intel Core i3 Processor (11th Gen)</td>\n",
       "      <td>8 GB DDR4 RAM</td>\n",
       "      <td>64 bit Windows 10 Operating System</td>\n",
       "      <td>256 GB SSD</td>\n",
       "      <td>35.56 cm (14 Inch) Display</td>\n",
       "      <td>1 Year Onsite Warranty</td>\n",
       "      <td>₹43,990</td>\n",
       "      <td>4.2</td>\n",
       "    </tr>\n",
       "    <tr>\n",
       "      <th>2</th>\n",
       "      <td>HP Pentium Quad Core - (8 GB/256 GB SSD/Window...</td>\n",
       "      <td>Intel Pentium Quad Core Processor</td>\n",
       "      <td>8 GB DDR4 RAM</td>\n",
       "      <td>64 bit Windows 10 Operating System</td>\n",
       "      <td>256 GB SSD</td>\n",
       "      <td>35.56 cm (14 inch) Display</td>\n",
       "      <td>1 Year Onsite Warranty</td>\n",
       "      <td>₹31,490</td>\n",
       "      <td>4.6</td>\n",
       "    </tr>\n",
       "    <tr>\n",
       "      <th>3</th>\n",
       "      <td>HP 14s Core i3 11th Gen - (8 GB/256 GB SSD/Win...</td>\n",
       "      <td>Intel Core i3 Processor (11th Gen)</td>\n",
       "      <td>8 GB DDR4 RAM</td>\n",
       "      <td>64 bit Windows 10 Operating System</td>\n",
       "      <td>256 GB SSD</td>\n",
       "      <td>35.56 cm (14 inch) Display</td>\n",
       "      <td>1 Year Onsite Warranty</td>\n",
       "      <td>₹40,990</td>\n",
       "      <td>4.1</td>\n",
       "    </tr>\n",
       "    <tr>\n",
       "      <th>4</th>\n",
       "      <td>HP 15s Athlon Dual Core - (4 GB/1 TB HDD/Windo...</td>\n",
       "      <td>AMD Athlon Dual Core Processor</td>\n",
       "      <td>4 GB DDR4 RAM</td>\n",
       "      <td>64 bit Windows 10 Operating System</td>\n",
       "      <td>1 TB HDD</td>\n",
       "      <td>39.62 cm (15.6 inch) Display</td>\n",
       "      <td>1 Year Onsite Warranty</td>\n",
       "      <td>₹27,490</td>\n",
       "      <td>4.1</td>\n",
       "    </tr>\n",
       "  </tbody>\n",
       "</table>\n",
       "</div>"
      ],
      "text/plain": [
       "                                                Name  \\\n",
       "0  Lenovo Ideapad S145 Core i5 10th Gen - (8 GB/1...   \n",
       "1  Lenovo IdeaPad Core i3 11th Gen - (8 GB/256 GB...   \n",
       "2  HP Pentium Quad Core - (8 GB/256 GB SSD/Window...   \n",
       "3  HP 14s Core i3 11th Gen - (8 GB/256 GB SSD/Win...   \n",
       "4  HP 15s Athlon Dual Core - (4 GB/1 TB HDD/Windo...   \n",
       "\n",
       "                            Processor            RAM  \\\n",
       "0  Intel Core i5 Processor (10th Gen)  8 GB DDR4 RAM   \n",
       "1  Intel Core i3 Processor (11th Gen)  8 GB DDR4 RAM   \n",
       "2   Intel Pentium Quad Core Processor  8 GB DDR4 RAM   \n",
       "3  Intel Core i3 Processor (11th Gen)  8 GB DDR4 RAM   \n",
       "4      AMD Athlon Dual Core Processor  4 GB DDR4 RAM   \n",
       "\n",
       "                     Operating System     Storage  \\\n",
       "0  64 bit Windows 10 Operating System    1 TB HDD   \n",
       "1  64 bit Windows 10 Operating System  256 GB SSD   \n",
       "2  64 bit Windows 10 Operating System  256 GB SSD   \n",
       "3  64 bit Windows 10 Operating System  256 GB SSD   \n",
       "4  64 bit Windows 10 Operating System    1 TB HDD   \n",
       "\n",
       "                        Display                Warranty    Price  rating  \n",
       "0  39.62 cm (15.6 inch) Display  1 Year Onsite Warranty  ₹43,990     3.9  \n",
       "1    35.56 cm (14 Inch) Display  1 Year Onsite Warranty  ₹43,990     4.2  \n",
       "2    35.56 cm (14 inch) Display  1 Year Onsite Warranty  ₹31,490     4.6  \n",
       "3    35.56 cm (14 inch) Display  1 Year Onsite Warranty  ₹40,990     4.1  \n",
       "4  39.62 cm (15.6 inch) Display  1 Year Onsite Warranty  ₹27,490     4.1  "
      ]
     },
     "execution_count": 8,
     "metadata": {},
     "output_type": "execute_result"
    }
   ],
   "source": [
    "df.head()"
   ]
  },
  {
   "cell_type": "code",
   "execution_count": 9,
   "id": "41286f63",
   "metadata": {},
   "outputs": [],
   "source": [
    "# remove the , and rupee sign from Price"
   ]
  },
  {
   "cell_type": "code",
   "execution_count": 10,
   "id": "d3b3ad38",
   "metadata": {},
   "outputs": [],
   "source": [
    "laptop[\"Price\"] = laptop[\"Price\"].str.replace(',','')\n",
    "laptop[\"Price\"] = laptop[\"Price\"].str.replace('₹','')\n"
   ]
  },
  {
   "cell_type": "code",
   "execution_count": 11,
   "id": "70c96024",
   "metadata": {},
   "outputs": [
    {
     "data": {
      "text/html": [
       "<div>\n",
       "<style scoped>\n",
       "    .dataframe tbody tr th:only-of-type {\n",
       "        vertical-align: middle;\n",
       "    }\n",
       "\n",
       "    .dataframe tbody tr th {\n",
       "        vertical-align: top;\n",
       "    }\n",
       "\n",
       "    .dataframe thead th {\n",
       "        text-align: right;\n",
       "    }\n",
       "</style>\n",
       "<table border=\"1\" class=\"dataframe\">\n",
       "  <thead>\n",
       "    <tr style=\"text-align: right;\">\n",
       "      <th></th>\n",
       "      <th>Name</th>\n",
       "      <th>Processor</th>\n",
       "      <th>RAM</th>\n",
       "      <th>Operating System</th>\n",
       "      <th>Storage</th>\n",
       "      <th>Display</th>\n",
       "      <th>Warranty</th>\n",
       "      <th>Price</th>\n",
       "      <th>rating</th>\n",
       "    </tr>\n",
       "  </thead>\n",
       "  <tbody>\n",
       "    <tr>\n",
       "      <th>0</th>\n",
       "      <td>Lenovo Ideapad S145 Core i5 10th Gen - (8 GB/1...</td>\n",
       "      <td>Intel Core i5 Processor (10th Gen)</td>\n",
       "      <td>8 GB DDR4 RAM</td>\n",
       "      <td>64 bit Windows 10 Operating System</td>\n",
       "      <td>1 TB HDD</td>\n",
       "      <td>39.62 cm (15.6 inch) Display</td>\n",
       "      <td>1 Year Onsite Warranty</td>\n",
       "      <td>43990</td>\n",
       "      <td>3.9</td>\n",
       "    </tr>\n",
       "    <tr>\n",
       "      <th>1</th>\n",
       "      <td>Lenovo IdeaPad Core i3 11th Gen - (8 GB/256 GB...</td>\n",
       "      <td>Intel Core i3 Processor (11th Gen)</td>\n",
       "      <td>8 GB DDR4 RAM</td>\n",
       "      <td>64 bit Windows 10 Operating System</td>\n",
       "      <td>256 GB SSD</td>\n",
       "      <td>35.56 cm (14 Inch) Display</td>\n",
       "      <td>1 Year Onsite Warranty</td>\n",
       "      <td>43990</td>\n",
       "      <td>4.2</td>\n",
       "    </tr>\n",
       "    <tr>\n",
       "      <th>2</th>\n",
       "      <td>HP Pentium Quad Core - (8 GB/256 GB SSD/Window...</td>\n",
       "      <td>Intel Pentium Quad Core Processor</td>\n",
       "      <td>8 GB DDR4 RAM</td>\n",
       "      <td>64 bit Windows 10 Operating System</td>\n",
       "      <td>256 GB SSD</td>\n",
       "      <td>35.56 cm (14 inch) Display</td>\n",
       "      <td>1 Year Onsite Warranty</td>\n",
       "      <td>31490</td>\n",
       "      <td>4.6</td>\n",
       "    </tr>\n",
       "    <tr>\n",
       "      <th>3</th>\n",
       "      <td>HP 14s Core i3 11th Gen - (8 GB/256 GB SSD/Win...</td>\n",
       "      <td>Intel Core i3 Processor (11th Gen)</td>\n",
       "      <td>8 GB DDR4 RAM</td>\n",
       "      <td>64 bit Windows 10 Operating System</td>\n",
       "      <td>256 GB SSD</td>\n",
       "      <td>35.56 cm (14 inch) Display</td>\n",
       "      <td>1 Year Onsite Warranty</td>\n",
       "      <td>40990</td>\n",
       "      <td>4.1</td>\n",
       "    </tr>\n",
       "    <tr>\n",
       "      <th>4</th>\n",
       "      <td>HP 15s Athlon Dual Core - (4 GB/1 TB HDD/Windo...</td>\n",
       "      <td>AMD Athlon Dual Core Processor</td>\n",
       "      <td>4 GB DDR4 RAM</td>\n",
       "      <td>64 bit Windows 10 Operating System</td>\n",
       "      <td>1 TB HDD</td>\n",
       "      <td>39.62 cm (15.6 inch) Display</td>\n",
       "      <td>1 Year Onsite Warranty</td>\n",
       "      <td>27490</td>\n",
       "      <td>4.1</td>\n",
       "    </tr>\n",
       "  </tbody>\n",
       "</table>\n",
       "</div>"
      ],
      "text/plain": [
       "                                                Name  \\\n",
       "0  Lenovo Ideapad S145 Core i5 10th Gen - (8 GB/1...   \n",
       "1  Lenovo IdeaPad Core i3 11th Gen - (8 GB/256 GB...   \n",
       "2  HP Pentium Quad Core - (8 GB/256 GB SSD/Window...   \n",
       "3  HP 14s Core i3 11th Gen - (8 GB/256 GB SSD/Win...   \n",
       "4  HP 15s Athlon Dual Core - (4 GB/1 TB HDD/Windo...   \n",
       "\n",
       "                            Processor            RAM  \\\n",
       "0  Intel Core i5 Processor (10th Gen)  8 GB DDR4 RAM   \n",
       "1  Intel Core i3 Processor (11th Gen)  8 GB DDR4 RAM   \n",
       "2   Intel Pentium Quad Core Processor  8 GB DDR4 RAM   \n",
       "3  Intel Core i3 Processor (11th Gen)  8 GB DDR4 RAM   \n",
       "4      AMD Athlon Dual Core Processor  4 GB DDR4 RAM   \n",
       "\n",
       "                     Operating System     Storage  \\\n",
       "0  64 bit Windows 10 Operating System    1 TB HDD   \n",
       "1  64 bit Windows 10 Operating System  256 GB SSD   \n",
       "2  64 bit Windows 10 Operating System  256 GB SSD   \n",
       "3  64 bit Windows 10 Operating System  256 GB SSD   \n",
       "4  64 bit Windows 10 Operating System    1 TB HDD   \n",
       "\n",
       "                        Display                Warranty  Price  rating  \n",
       "0  39.62 cm (15.6 inch) Display  1 Year Onsite Warranty  43990     3.9  \n",
       "1    35.56 cm (14 Inch) Display  1 Year Onsite Warranty  43990     4.2  \n",
       "2    35.56 cm (14 inch) Display  1 Year Onsite Warranty  31490     4.6  \n",
       "3    35.56 cm (14 inch) Display  1 Year Onsite Warranty  40990     4.1  \n",
       "4  39.62 cm (15.6 inch) Display  1 Year Onsite Warranty  27490     4.1  "
      ]
     },
     "execution_count": 11,
     "metadata": {},
     "output_type": "execute_result"
    }
   ],
   "source": [
    "laptop.head()"
   ]
  },
  {
   "cell_type": "code",
   "execution_count": 12,
   "id": "0fa08835",
   "metadata": {},
   "outputs": [
    {
     "data": {
      "text/plain": [
       "Name                0\n",
       "Processor           0\n",
       "RAM                 0\n",
       "Operating System    0\n",
       "Storage             0\n",
       "Display             0\n",
       "Warranty            0\n",
       "Price               0\n",
       "rating              0\n",
       "dtype: int64"
      ]
     },
     "execution_count": 12,
     "metadata": {},
     "output_type": "execute_result"
    }
   ],
   "source": [
    "laptop.isnull().sum()"
   ]
  },
  {
   "cell_type": "code",
   "execution_count": 13,
   "id": "22dadfbb",
   "metadata": {},
   "outputs": [
    {
     "data": {
      "text/plain": [
       "array(['64 bit Windows 10 Operating System', 'Mac OS Operating System',\n",
       "       'Windows 10 Operating System',\n",
       "       'Pre-installed Genuine Windows 10 Operating System (Includes Built-in Security, Free Automated Updates, Latest Features)',\n",
       "       'DOS Operating System', '64 bit Chrome Operating System'],\n",
       "      dtype=object)"
      ]
     },
     "execution_count": 13,
     "metadata": {},
     "output_type": "execute_result"
    }
   ],
   "source": [
    "laptop[\"Operating System\"].unique()"
   ]
  },
  {
   "cell_type": "code",
   "execution_count": 14,
   "id": "3dce0cdf",
   "metadata": {},
   "outputs": [
    {
     "data": {
      "text/plain": [
       "array([3.9, 4.2, 4.6, 4.1, 4.5, 4.4, 4.3, 5. , 4. , 2. , 3. , 3.4, 4.7,\n",
       "       3.8, 4.8, 3.6, 3.5, 1. , 3.7, 3.3, 4.9])"
      ]
     },
     "execution_count": 14,
     "metadata": {},
     "output_type": "execute_result"
    }
   ],
   "source": [
    "laptop.rating.unique()"
   ]
  },
  {
   "cell_type": "code",
   "execution_count": 15,
   "id": "5ee1118d",
   "metadata": {},
   "outputs": [],
   "source": [
    "# as the OS is mainly Windows and the rating varies from 1 to 5, I consider them usless for the further analysis"
   ]
  },
  {
   "cell_type": "code",
   "execution_count": 16,
   "id": "e8cd2027",
   "metadata": {},
   "outputs": [],
   "source": [
    "laptop.drop([\"Operating System\",\"rating\"],axis=1,inplace=True)"
   ]
  },
  {
   "cell_type": "code",
   "execution_count": 17,
   "id": "1cd910a9",
   "metadata": {},
   "outputs": [
    {
     "name": "stderr",
     "output_type": "stream",
     "text": [
      "<ipython-input-17-ad1c9b14b703>:2: FutureWarning: The default value of regex will change from True to False in a future version.\n",
      "  laptop.Warranty = laptop.Warranty.str.replace(\"\\s.*\",\"\")\n"
     ]
    }
   ],
   "source": [
    "# formating Warranty\n",
    "laptop.Warranty = laptop.Warranty.str.replace(\"\\s.*\",\"\")"
   ]
  },
  {
   "cell_type": "code",
   "execution_count": 18,
   "id": "16d418f0",
   "metadata": {},
   "outputs": [
    {
     "data": {
      "text/html": [
       "<div>\n",
       "<style scoped>\n",
       "    .dataframe tbody tr th:only-of-type {\n",
       "        vertical-align: middle;\n",
       "    }\n",
       "\n",
       "    .dataframe tbody tr th {\n",
       "        vertical-align: top;\n",
       "    }\n",
       "\n",
       "    .dataframe thead th {\n",
       "        text-align: right;\n",
       "    }\n",
       "</style>\n",
       "<table border=\"1\" class=\"dataframe\">\n",
       "  <thead>\n",
       "    <tr style=\"text-align: right;\">\n",
       "      <th></th>\n",
       "      <th>Name</th>\n",
       "      <th>Processor</th>\n",
       "      <th>RAM</th>\n",
       "      <th>Storage</th>\n",
       "      <th>Display</th>\n",
       "      <th>Warranty</th>\n",
       "      <th>Price</th>\n",
       "    </tr>\n",
       "  </thead>\n",
       "  <tbody>\n",
       "    <tr>\n",
       "      <th>0</th>\n",
       "      <td>Lenovo Ideapad S145 Core i5 10th Gen - (8 GB/1...</td>\n",
       "      <td>Intel Core i5 Processor (10th Gen)</td>\n",
       "      <td>8 GB DDR4 RAM</td>\n",
       "      <td>1 TB HDD</td>\n",
       "      <td>39.62 cm (15.6 inch) Display</td>\n",
       "      <td>1</td>\n",
       "      <td>43990</td>\n",
       "    </tr>\n",
       "    <tr>\n",
       "      <th>1</th>\n",
       "      <td>Lenovo IdeaPad Core i3 11th Gen - (8 GB/256 GB...</td>\n",
       "      <td>Intel Core i3 Processor (11th Gen)</td>\n",
       "      <td>8 GB DDR4 RAM</td>\n",
       "      <td>256 GB SSD</td>\n",
       "      <td>35.56 cm (14 Inch) Display</td>\n",
       "      <td>1</td>\n",
       "      <td>43990</td>\n",
       "    </tr>\n",
       "    <tr>\n",
       "      <th>2</th>\n",
       "      <td>HP Pentium Quad Core - (8 GB/256 GB SSD/Window...</td>\n",
       "      <td>Intel Pentium Quad Core Processor</td>\n",
       "      <td>8 GB DDR4 RAM</td>\n",
       "      <td>256 GB SSD</td>\n",
       "      <td>35.56 cm (14 inch) Display</td>\n",
       "      <td>1</td>\n",
       "      <td>31490</td>\n",
       "    </tr>\n",
       "    <tr>\n",
       "      <th>3</th>\n",
       "      <td>HP 14s Core i3 11th Gen - (8 GB/256 GB SSD/Win...</td>\n",
       "      <td>Intel Core i3 Processor (11th Gen)</td>\n",
       "      <td>8 GB DDR4 RAM</td>\n",
       "      <td>256 GB SSD</td>\n",
       "      <td>35.56 cm (14 inch) Display</td>\n",
       "      <td>1</td>\n",
       "      <td>40990</td>\n",
       "    </tr>\n",
       "    <tr>\n",
       "      <th>4</th>\n",
       "      <td>HP 15s Athlon Dual Core - (4 GB/1 TB HDD/Windo...</td>\n",
       "      <td>AMD Athlon Dual Core Processor</td>\n",
       "      <td>4 GB DDR4 RAM</td>\n",
       "      <td>1 TB HDD</td>\n",
       "      <td>39.62 cm (15.6 inch) Display</td>\n",
       "      <td>1</td>\n",
       "      <td>27490</td>\n",
       "    </tr>\n",
       "  </tbody>\n",
       "</table>\n",
       "</div>"
      ],
      "text/plain": [
       "                                                Name  \\\n",
       "0  Lenovo Ideapad S145 Core i5 10th Gen - (8 GB/1...   \n",
       "1  Lenovo IdeaPad Core i3 11th Gen - (8 GB/256 GB...   \n",
       "2  HP Pentium Quad Core - (8 GB/256 GB SSD/Window...   \n",
       "3  HP 14s Core i3 11th Gen - (8 GB/256 GB SSD/Win...   \n",
       "4  HP 15s Athlon Dual Core - (4 GB/1 TB HDD/Windo...   \n",
       "\n",
       "                            Processor            RAM     Storage  \\\n",
       "0  Intel Core i5 Processor (10th Gen)  8 GB DDR4 RAM    1 TB HDD   \n",
       "1  Intel Core i3 Processor (11th Gen)  8 GB DDR4 RAM  256 GB SSD   \n",
       "2   Intel Pentium Quad Core Processor  8 GB DDR4 RAM  256 GB SSD   \n",
       "3  Intel Core i3 Processor (11th Gen)  8 GB DDR4 RAM  256 GB SSD   \n",
       "4      AMD Athlon Dual Core Processor  4 GB DDR4 RAM    1 TB HDD   \n",
       "\n",
       "                        Display Warranty  Price  \n",
       "0  39.62 cm (15.6 inch) Display        1  43990  \n",
       "1    35.56 cm (14 Inch) Display        1  43990  \n",
       "2    35.56 cm (14 inch) Display        1  31490  \n",
       "3    35.56 cm (14 inch) Display        1  40990  \n",
       "4  39.62 cm (15.6 inch) Display        1  27490  "
      ]
     },
     "execution_count": 18,
     "metadata": {},
     "output_type": "execute_result"
    }
   ],
   "source": [
    "laptop.head()"
   ]
  },
  {
   "cell_type": "code",
   "execution_count": 19,
   "id": "56dc83e6",
   "metadata": {},
   "outputs": [
    {
     "name": "stderr",
     "output_type": "stream",
     "text": [
      "<ipython-input-19-f30bd5098ccd>:3: FutureWarning: The default value of regex will change from True to False in a future version.\n",
      "  laptop.RAM = laptop.RAM.str.replace(\"\\s.*\",\"\")\n"
     ]
    }
   ],
   "source": [
    "# formating RAM\n",
    "\n",
    "laptop.RAM = laptop.RAM.str.replace(\"\\s.*\",\"\")"
   ]
  },
  {
   "cell_type": "code",
   "execution_count": 20,
   "id": "b5f2c085",
   "metadata": {},
   "outputs": [],
   "source": [
    "# replace 1 TB to 1024 GB\n",
    "\n",
    "laptop.Storage = laptop.Storage.str.replace(\"1 TB\",\"1024 GB\")"
   ]
  },
  {
   "cell_type": "code",
   "execution_count": 21,
   "id": "5e4ebcd7",
   "metadata": {},
   "outputs": [
    {
     "data": {
      "text/html": [
       "<div>\n",
       "<style scoped>\n",
       "    .dataframe tbody tr th:only-of-type {\n",
       "        vertical-align: middle;\n",
       "    }\n",
       "\n",
       "    .dataframe tbody tr th {\n",
       "        vertical-align: top;\n",
       "    }\n",
       "\n",
       "    .dataframe thead th {\n",
       "        text-align: right;\n",
       "    }\n",
       "</style>\n",
       "<table border=\"1\" class=\"dataframe\">\n",
       "  <thead>\n",
       "    <tr style=\"text-align: right;\">\n",
       "      <th></th>\n",
       "      <th>Name</th>\n",
       "      <th>Processor</th>\n",
       "      <th>RAM</th>\n",
       "      <th>Storage</th>\n",
       "      <th>Display</th>\n",
       "      <th>Warranty</th>\n",
       "      <th>Price</th>\n",
       "    </tr>\n",
       "  </thead>\n",
       "  <tbody>\n",
       "    <tr>\n",
       "      <th>0</th>\n",
       "      <td>Lenovo Ideapad S145 Core i5 10th Gen - (8 GB/1...</td>\n",
       "      <td>Intel Core i5 Processor (10th Gen)</td>\n",
       "      <td>8</td>\n",
       "      <td>1024 GB HDD</td>\n",
       "      <td>39.62 cm (15.6 inch) Display</td>\n",
       "      <td>1</td>\n",
       "      <td>43990</td>\n",
       "    </tr>\n",
       "    <tr>\n",
       "      <th>1</th>\n",
       "      <td>Lenovo IdeaPad Core i3 11th Gen - (8 GB/256 GB...</td>\n",
       "      <td>Intel Core i3 Processor (11th Gen)</td>\n",
       "      <td>8</td>\n",
       "      <td>256 GB SSD</td>\n",
       "      <td>35.56 cm (14 Inch) Display</td>\n",
       "      <td>1</td>\n",
       "      <td>43990</td>\n",
       "    </tr>\n",
       "    <tr>\n",
       "      <th>2</th>\n",
       "      <td>HP Pentium Quad Core - (8 GB/256 GB SSD/Window...</td>\n",
       "      <td>Intel Pentium Quad Core Processor</td>\n",
       "      <td>8</td>\n",
       "      <td>256 GB SSD</td>\n",
       "      <td>35.56 cm (14 inch) Display</td>\n",
       "      <td>1</td>\n",
       "      <td>31490</td>\n",
       "    </tr>\n",
       "    <tr>\n",
       "      <th>3</th>\n",
       "      <td>HP 14s Core i3 11th Gen - (8 GB/256 GB SSD/Win...</td>\n",
       "      <td>Intel Core i3 Processor (11th Gen)</td>\n",
       "      <td>8</td>\n",
       "      <td>256 GB SSD</td>\n",
       "      <td>35.56 cm (14 inch) Display</td>\n",
       "      <td>1</td>\n",
       "      <td>40990</td>\n",
       "    </tr>\n",
       "    <tr>\n",
       "      <th>4</th>\n",
       "      <td>HP 15s Athlon Dual Core - (4 GB/1 TB HDD/Windo...</td>\n",
       "      <td>AMD Athlon Dual Core Processor</td>\n",
       "      <td>4</td>\n",
       "      <td>1024 GB HDD</td>\n",
       "      <td>39.62 cm (15.6 inch) Display</td>\n",
       "      <td>1</td>\n",
       "      <td>27490</td>\n",
       "    </tr>\n",
       "  </tbody>\n",
       "</table>\n",
       "</div>"
      ],
      "text/plain": [
       "                                                Name  \\\n",
       "0  Lenovo Ideapad S145 Core i5 10th Gen - (8 GB/1...   \n",
       "1  Lenovo IdeaPad Core i3 11th Gen - (8 GB/256 GB...   \n",
       "2  HP Pentium Quad Core - (8 GB/256 GB SSD/Window...   \n",
       "3  HP 14s Core i3 11th Gen - (8 GB/256 GB SSD/Win...   \n",
       "4  HP 15s Athlon Dual Core - (4 GB/1 TB HDD/Windo...   \n",
       "\n",
       "                            Processor RAM      Storage  \\\n",
       "0  Intel Core i5 Processor (10th Gen)   8  1024 GB HDD   \n",
       "1  Intel Core i3 Processor (11th Gen)   8   256 GB SSD   \n",
       "2   Intel Pentium Quad Core Processor   8   256 GB SSD   \n",
       "3  Intel Core i3 Processor (11th Gen)   8   256 GB SSD   \n",
       "4      AMD Athlon Dual Core Processor   4  1024 GB HDD   \n",
       "\n",
       "                        Display Warranty  Price  \n",
       "0  39.62 cm (15.6 inch) Display        1  43990  \n",
       "1    35.56 cm (14 Inch) Display        1  43990  \n",
       "2    35.56 cm (14 inch) Display        1  31490  \n",
       "3    35.56 cm (14 inch) Display        1  40990  \n",
       "4  39.62 cm (15.6 inch) Display        1  27490  "
      ]
     },
     "execution_count": 21,
     "metadata": {},
     "output_type": "execute_result"
    }
   ],
   "source": [
    "laptop.head()"
   ]
  },
  {
   "cell_type": "code",
   "execution_count": 22,
   "id": "723d8e7d",
   "metadata": {},
   "outputs": [
    {
     "name": "stdout",
     "output_type": "stream",
     "text": [
      "Name         object\n",
      "Processor    object\n",
      "RAM          object\n",
      "Storage      object\n",
      "Display      object\n",
      "Warranty     object\n",
      "Price         int32\n",
      "dtype: object\n"
     ]
    }
   ],
   "source": [
    "laptop.Price = laptop.Price.astype(str).astype(int)\n",
    "print(laptop.dtypes)"
   ]
  },
  {
   "cell_type": "markdown",
   "id": "b9bf85ea",
   "metadata": {},
   "source": [
    "# Encoding"
   ]
  },
  {
   "cell_type": "code",
   "execution_count": 23,
   "id": "44fdc235",
   "metadata": {},
   "outputs": [
    {
     "data": {
      "text/html": [
       "<div>\n",
       "<style scoped>\n",
       "    .dataframe tbody tr th:only-of-type {\n",
       "        vertical-align: middle;\n",
       "    }\n",
       "\n",
       "    .dataframe tbody tr th {\n",
       "        vertical-align: top;\n",
       "    }\n",
       "\n",
       "    .dataframe thead th {\n",
       "        text-align: right;\n",
       "    }\n",
       "</style>\n",
       "<table border=\"1\" class=\"dataframe\">\n",
       "  <thead>\n",
       "    <tr style=\"text-align: right;\">\n",
       "      <th></th>\n",
       "      <th>Name</th>\n",
       "      <th>Processor</th>\n",
       "      <th>RAM</th>\n",
       "      <th>Storage</th>\n",
       "      <th>Display</th>\n",
       "      <th>Warranty</th>\n",
       "      <th>Price</th>\n",
       "    </tr>\n",
       "  </thead>\n",
       "  <tbody>\n",
       "    <tr>\n",
       "      <th>0</th>\n",
       "      <td>67</td>\n",
       "      <td>24</td>\n",
       "      <td>1</td>\n",
       "      <td>4</td>\n",
       "      <td>13</td>\n",
       "      <td>3</td>\n",
       "      <td>43990</td>\n",
       "    </tr>\n",
       "    <tr>\n",
       "      <th>1</th>\n",
       "      <td>68</td>\n",
       "      <td>14</td>\n",
       "      <td>1</td>\n",
       "      <td>8</td>\n",
       "      <td>20</td>\n",
       "      <td>3</td>\n",
       "      <td>43990</td>\n",
       "    </tr>\n",
       "    <tr>\n",
       "      <th>2</th>\n",
       "      <td>17</td>\n",
       "      <td>0</td>\n",
       "      <td>1</td>\n",
       "      <td>8</td>\n",
       "      <td>16</td>\n",
       "      <td>3</td>\n",
       "      <td>31490</td>\n",
       "    </tr>\n",
       "    <tr>\n",
       "      <th>3</th>\n",
       "      <td>48</td>\n",
       "      <td>14</td>\n",
       "      <td>1</td>\n",
       "      <td>8</td>\n",
       "      <td>16</td>\n",
       "      <td>3</td>\n",
       "      <td>40990</td>\n",
       "    </tr>\n",
       "    <tr>\n",
       "      <th>4</th>\n",
       "      <td>7</td>\n",
       "      <td>30</td>\n",
       "      <td>0</td>\n",
       "      <td>4</td>\n",
       "      <td>13</td>\n",
       "      <td>3</td>\n",
       "      <td>27490</td>\n",
       "    </tr>\n",
       "    <tr>\n",
       "      <th>5</th>\n",
       "      <td>61</td>\n",
       "      <td>24</td>\n",
       "      <td>1</td>\n",
       "      <td>4</td>\n",
       "      <td>13</td>\n",
       "      <td>3</td>\n",
       "      <td>42990</td>\n",
       "    </tr>\n",
       "    <tr>\n",
       "      <th>6</th>\n",
       "      <td>93</td>\n",
       "      <td>13</td>\n",
       "      <td>1</td>\n",
       "      <td>4</td>\n",
       "      <td>13</td>\n",
       "      <td>3</td>\n",
       "      <td>50990</td>\n",
       "    </tr>\n",
       "  </tbody>\n",
       "</table>\n",
       "</div>"
      ],
      "text/plain": [
       "   Name  Processor  RAM  Storage  Display  Warranty  Price\n",
       "0    67         24    1        4       13         3  43990\n",
       "1    68         14    1        8       20         3  43990\n",
       "2    17          0    1        8       16         3  31490\n",
       "3    48         14    1        8       16         3  40990\n",
       "4     7         30    0        4       13         3  27490\n",
       "5    61         24    1        4       13         3  42990\n",
       "6    93         13    1        4       13         3  50990"
      ]
     },
     "execution_count": 23,
     "metadata": {},
     "output_type": "execute_result"
    }
   ],
   "source": [
    "col = [predict for predict in laptop.columns if laptop[predict].dtype == \"O\"]\n",
    "\n",
    "for predict in col:\n",
    "    labels_order = laptop.groupby([predict])[\"Price\"].mean().sort_values().index\n",
    "    labels_order = {k:v for v,k in enumerate(labels_order,0)}\n",
    "    laptop[predict] = laptop[predict].map(labels_order)\n",
    "\n",
    "laptop.head(7)"
   ]
  },
  {
   "cell_type": "code",
   "execution_count": 24,
   "id": "b7001fcb",
   "metadata": {},
   "outputs": [],
   "source": [
    "target = laptop[\"Price\"]\n",
    "features = laptop.drop(columns=\"Price\")"
   ]
  },
  {
   "cell_type": "code",
   "execution_count": 25,
   "id": "363e5c8e",
   "metadata": {},
   "outputs": [],
   "source": [
    "from sklearn.model_selection import train_test_split\n",
    "from sklearn.preprocessing import StandardScaler\n",
    "from sklearn.ensemble import RandomForestRegressor"
   ]
  },
  {
   "cell_type": "markdown",
   "id": "1e0cdce0",
   "metadata": {},
   "source": [
    "# Split the Data and Build the Model"
   ]
  },
  {
   "cell_type": "code",
   "execution_count": 26,
   "id": "c0a2cabb",
   "metadata": {},
   "outputs": [],
   "source": [
    "scaler = StandardScaler()\n",
    "\n",
    "features = scaler.fit_transform(features)"
   ]
  },
  {
   "cell_type": "code",
   "execution_count": 27,
   "id": "765fa1c9",
   "metadata": {},
   "outputs": [
    {
     "data": {
      "text/plain": [
       "array([[-1.11823736,  0.48947773, -0.44234017, -1.11928858, -0.53705835,\n",
       "        -0.0650044 ],\n",
       "       [-1.10897402, -1.05594564, -0.44234017,  1.21477292,  1.33414042,\n",
       "        -0.0650044 ],\n",
       "       [-1.58140463, -3.21953835, -0.44234017,  1.21477292,  0.26488398,\n",
       "        -0.0650044 ],\n",
       "       ...,\n",
       "       [ 1.02159541, -0.59231863, -1.336778  , -1.70280396, -0.26974424,\n",
       "        -0.0650044 ],\n",
       "       [ 1.18833562,  2.18944343,  1.34653551, -0.53577321, -0.53705835,\n",
       "        -0.0650044 ],\n",
       "       [ 0.43800465,  0.48947773,  0.45209767,  0.04774217,  0.26488398,\n",
       "        -0.0650044 ]])"
      ]
     },
     "execution_count": 27,
     "metadata": {},
     "output_type": "execute_result"
    }
   ],
   "source": [
    "features"
   ]
  },
  {
   "cell_type": "code",
   "execution_count": 28,
   "id": "a4e8f477",
   "metadata": {},
   "outputs": [],
   "source": [
    "X_train, X_test, y_train, y_test = train_test_split(features,target, test_size=.3,random_state=50,shuffle=True)"
   ]
  },
  {
   "cell_type": "code",
   "execution_count": 29,
   "id": "e66d9c90",
   "metadata": {},
   "outputs": [
    {
     "data": {
      "text/plain": [
       "RandomForestRegressor(random_state=10)"
      ]
     },
     "execution_count": 29,
     "metadata": {},
     "output_type": "execute_result"
    }
   ],
   "source": [
    "model = RandomForestRegressor(random_state=10)\n",
    "model.fit(X_train,y_train)"
   ]
  },
  {
   "cell_type": "code",
   "execution_count": 30,
   "id": "4bbc061d",
   "metadata": {},
   "outputs": [],
   "source": [
    "# Check accuracy"
   ]
  },
  {
   "cell_type": "code",
   "execution_count": 31,
   "id": "ae5d43b5",
   "metadata": {},
   "outputs": [
    {
     "name": "stdout",
     "output_type": "stream",
     "text": [
      "Train accuracy\n",
      "0.9976233393719107\n"
     ]
    }
   ],
   "source": [
    "print(\"Train accuracy\")\n",
    "print(model.score(X_train,y_train))"
   ]
  },
  {
   "cell_type": "code",
   "execution_count": 32,
   "id": "eb0011af",
   "metadata": {},
   "outputs": [
    {
     "name": "stdout",
     "output_type": "stream",
     "text": [
      "Test accuracy\n",
      "0.9916261949185583\n"
     ]
    }
   ],
   "source": [
    "print('Test accuracy')\n",
    "print(model.score(X_test,y_test))"
   ]
  },
  {
   "cell_type": "code",
   "execution_count": 33,
   "id": "e6a9a053",
   "metadata": {},
   "outputs": [],
   "source": [
    "prediction = model.predict(X_test)"
   ]
  },
  {
   "cell_type": "code",
   "execution_count": 34,
   "id": "6b8b0a3c",
   "metadata": {},
   "outputs": [],
   "source": [
    "# EDA"
   ]
  },
  {
   "cell_type": "code",
   "execution_count": 35,
   "id": "a46d34af",
   "metadata": {},
   "outputs": [
    {
     "data": {
      "text/html": [
       "<div>\n",
       "<style scoped>\n",
       "    .dataframe tbody tr th:only-of-type {\n",
       "        vertical-align: middle;\n",
       "    }\n",
       "\n",
       "    .dataframe tbody tr th {\n",
       "        vertical-align: top;\n",
       "    }\n",
       "\n",
       "    .dataframe thead th {\n",
       "        text-align: right;\n",
       "    }\n",
       "</style>\n",
       "<table border=\"1\" class=\"dataframe\">\n",
       "  <thead>\n",
       "    <tr style=\"text-align: right;\">\n",
       "      <th></th>\n",
       "      <th>Name</th>\n",
       "      <th>Processor</th>\n",
       "      <th>RAM</th>\n",
       "      <th>Operating System</th>\n",
       "      <th>Storage</th>\n",
       "      <th>Display</th>\n",
       "      <th>Warranty</th>\n",
       "      <th>Price</th>\n",
       "      <th>rating</th>\n",
       "    </tr>\n",
       "  </thead>\n",
       "  <tbody>\n",
       "    <tr>\n",
       "      <th>0</th>\n",
       "      <td>Lenovo Ideapad S145 Core i5 10th Gen - (8 GB/1...</td>\n",
       "      <td>Intel Core i5 Processor (10th Gen)</td>\n",
       "      <td>8 GB DDR4 RAM</td>\n",
       "      <td>64 bit Windows 10 Operating System</td>\n",
       "      <td>1 TB HDD</td>\n",
       "      <td>39.62 cm (15.6 inch) Display</td>\n",
       "      <td>1 Year Onsite Warranty</td>\n",
       "      <td>₹43,990</td>\n",
       "      <td>3.9</td>\n",
       "    </tr>\n",
       "    <tr>\n",
       "      <th>1</th>\n",
       "      <td>Lenovo IdeaPad Core i3 11th Gen - (8 GB/256 GB...</td>\n",
       "      <td>Intel Core i3 Processor (11th Gen)</td>\n",
       "      <td>8 GB DDR4 RAM</td>\n",
       "      <td>64 bit Windows 10 Operating System</td>\n",
       "      <td>256 GB SSD</td>\n",
       "      <td>35.56 cm (14 Inch) Display</td>\n",
       "      <td>1 Year Onsite Warranty</td>\n",
       "      <td>₹43,990</td>\n",
       "      <td>4.2</td>\n",
       "    </tr>\n",
       "    <tr>\n",
       "      <th>2</th>\n",
       "      <td>HP Pentium Quad Core - (8 GB/256 GB SSD/Window...</td>\n",
       "      <td>Intel Pentium Quad Core Processor</td>\n",
       "      <td>8 GB DDR4 RAM</td>\n",
       "      <td>64 bit Windows 10 Operating System</td>\n",
       "      <td>256 GB SSD</td>\n",
       "      <td>35.56 cm (14 inch) Display</td>\n",
       "      <td>1 Year Onsite Warranty</td>\n",
       "      <td>₹31,490</td>\n",
       "      <td>4.6</td>\n",
       "    </tr>\n",
       "    <tr>\n",
       "      <th>3</th>\n",
       "      <td>HP 14s Core i3 11th Gen - (8 GB/256 GB SSD/Win...</td>\n",
       "      <td>Intel Core i3 Processor (11th Gen)</td>\n",
       "      <td>8 GB DDR4 RAM</td>\n",
       "      <td>64 bit Windows 10 Operating System</td>\n",
       "      <td>256 GB SSD</td>\n",
       "      <td>35.56 cm (14 inch) Display</td>\n",
       "      <td>1 Year Onsite Warranty</td>\n",
       "      <td>₹40,990</td>\n",
       "      <td>4.1</td>\n",
       "    </tr>\n",
       "    <tr>\n",
       "      <th>4</th>\n",
       "      <td>HP 15s Athlon Dual Core - (4 GB/1 TB HDD/Windo...</td>\n",
       "      <td>AMD Athlon Dual Core Processor</td>\n",
       "      <td>4 GB DDR4 RAM</td>\n",
       "      <td>64 bit Windows 10 Operating System</td>\n",
       "      <td>1 TB HDD</td>\n",
       "      <td>39.62 cm (15.6 inch) Display</td>\n",
       "      <td>1 Year Onsite Warranty</td>\n",
       "      <td>₹27,490</td>\n",
       "      <td>4.1</td>\n",
       "    </tr>\n",
       "  </tbody>\n",
       "</table>\n",
       "</div>"
      ],
      "text/plain": [
       "                                                Name  \\\n",
       "0  Lenovo Ideapad S145 Core i5 10th Gen - (8 GB/1...   \n",
       "1  Lenovo IdeaPad Core i3 11th Gen - (8 GB/256 GB...   \n",
       "2  HP Pentium Quad Core - (8 GB/256 GB SSD/Window...   \n",
       "3  HP 14s Core i3 11th Gen - (8 GB/256 GB SSD/Win...   \n",
       "4  HP 15s Athlon Dual Core - (4 GB/1 TB HDD/Windo...   \n",
       "\n",
       "                            Processor            RAM  \\\n",
       "0  Intel Core i5 Processor (10th Gen)  8 GB DDR4 RAM   \n",
       "1  Intel Core i3 Processor (11th Gen)  8 GB DDR4 RAM   \n",
       "2   Intel Pentium Quad Core Processor  8 GB DDR4 RAM   \n",
       "3  Intel Core i3 Processor (11th Gen)  8 GB DDR4 RAM   \n",
       "4      AMD Athlon Dual Core Processor  4 GB DDR4 RAM   \n",
       "\n",
       "                     Operating System     Storage  \\\n",
       "0  64 bit Windows 10 Operating System    1 TB HDD   \n",
       "1  64 bit Windows 10 Operating System  256 GB SSD   \n",
       "2  64 bit Windows 10 Operating System  256 GB SSD   \n",
       "3  64 bit Windows 10 Operating System  256 GB SSD   \n",
       "4  64 bit Windows 10 Operating System    1 TB HDD   \n",
       "\n",
       "                        Display                Warranty    Price  rating  \n",
       "0  39.62 cm (15.6 inch) Display  1 Year Onsite Warranty  ₹43,990     3.9  \n",
       "1    35.56 cm (14 Inch) Display  1 Year Onsite Warranty  ₹43,990     4.2  \n",
       "2    35.56 cm (14 inch) Display  1 Year Onsite Warranty  ₹31,490     4.6  \n",
       "3    35.56 cm (14 inch) Display  1 Year Onsite Warranty  ₹40,990     4.1  \n",
       "4  39.62 cm (15.6 inch) Display  1 Year Onsite Warranty  ₹27,490     4.1  "
      ]
     },
     "execution_count": 35,
     "metadata": {},
     "output_type": "execute_result"
    }
   ],
   "source": [
    "df.head()"
   ]
  },
  {
   "cell_type": "code",
   "execution_count": 36,
   "id": "16fa8bbd",
   "metadata": {},
   "outputs": [],
   "source": [
    "import seaborn as sns"
   ]
  },
  {
   "cell_type": "code",
   "execution_count": 37,
   "id": "86a77fb7",
   "metadata": {},
   "outputs": [
    {
     "name": "stderr",
     "output_type": "stream",
     "text": [
      "C:\\Users\\User\\anaconda3\\lib\\site-packages\\seaborn\\_decorators.py:36: FutureWarning: Pass the following variable as a keyword arg: x. From version 0.12, the only valid positional argument will be `data`, and passing other arguments without an explicit keyword will result in an error or misinterpretation.\n",
      "  warnings.warn(\n"
     ]
    },
    {
     "data": {
      "text/plain": [
       "(array([ 0,  1,  2,  3,  4,  5,  6,  7,  8,  9, 10, 11, 12, 13]),\n",
       " [Text(0, 0, '8 GB DDR4 RAM'),\n",
       "  Text(1, 0, '4 GB DDR4 RAM'),\n",
       "  Text(2, 0, '16 GB DDR4 RAM'),\n",
       "  Text(3, 0, '8 GB LPDDR4X RAM'),\n",
       "  Text(4, 0, '8 GB LPDDR3 RAM'),\n",
       "  Text(5, 0, '32 GB LPDDR4X RAM'),\n",
       "  Text(6, 0, '16 GB LPDDR4X RAM'),\n",
       "  Text(7, 0, '16 GB LPDDR3 RAM'),\n",
       "  Text(8, 0, '8 GB DDR3 RAM'),\n",
       "  Text(9, 0, '16 GB DDR3 RAM'),\n",
       "  Text(10, 0, '32 GB DDR4 RAM'),\n",
       "  Text(11, 0, 'Upgradable SSD Upto 512 GB and RAM Upto 32 GB'),\n",
       "  Text(12, 0, '4 GB DDR3 RAM'),\n",
       "  Text(13, 0, '12 GB DDR4 RAM')])"
      ]
     },
     "execution_count": 37,
     "metadata": {},
     "output_type": "execute_result"
    },
    {
     "data": {
      "image/png": "[encoded data removed]",
      "text/plain": [
       "<Figure size 432x288 with 1 Axes>"
      ]
     },
     "metadata": {
      "needs_background": "light"
     },
     "output_type": "display_data"
    }
   ],
   "source": [
    "sns.countplot(df[\"RAM\"])\n",
    "plt.xticks(rotation=90)"
   ]
  },
  {
   "cell_type": "code",
   "execution_count": 38,
   "id": "7470548f",
   "metadata": {},
   "outputs": [
    {
     "name": "stderr",
     "output_type": "stream",
     "text": [
      "C:\\Users\\User\\anaconda3\\lib\\site-packages\\seaborn\\_decorators.py:36: FutureWarning: Pass the following variable as a keyword arg: x. From version 0.12, the only valid positional argument will be `data`, and passing other arguments without an explicit keyword will result in an error or misinterpretation.\n",
      "  warnings.warn(\n"
     ]
    },
    {
     "data": {
      "text/plain": [
       "(array([ 0,  1,  2,  3,  4,  5,  6,  7,  8,  9, 10, 11, 12]),\n",
       " [Text(0, 0, '1 TB HDD'),\n",
       "  Text(1, 0, '256 GB SSD'),\n",
       "  Text(2, 0, '1 TB HDD|256 GB SSD'),\n",
       "  Text(3, 0, '512 GB SSD'),\n",
       "  Text(4, 0, '1 TB SSD'),\n",
       "  Text(5, 0, 'M.2 Slot for SSD Upgrade'),\n",
       "  Text(6, 0, '128 GB NVMe PCIe 3.0 x4 SSD'),\n",
       "  Text(7, 0, '1 TB HDD|128 GB SSD'),\n",
       "  Text(8, 0, '128 GB SSD'),\n",
       "  Text(9, 0, '512 GB SSD for Reduced Boot Up Time and in Game Loading'),\n",
       "  Text(10, 0, '1 TB HDD|512 GB SSD'),\n",
       "  Text(11, 0, '128 GB SSD for Reduced Boot Up Time and in Game Loading'),\n",
       "  Text(12, 0, '512 GB HDD|512 GB SSD')])"
      ]
     },
     "execution_count": 38,
     "metadata": {},
     "output_type": "execute_result"
    },
    {
     "data": {
      "image/png": "[encoded data removed]",
      "text/plain": [
       "<Figure size 720x720 with 1 Axes>"
      ]
     },
     "metadata": {
      "needs_background": "light"
     },
     "output_type": "display_data"
    }
   ],
   "source": [
    "plt.figure(figsize=(10,10))\n",
    "sns.countplot(df['Storage'])\n",
    "plt.xticks(rotation=90)"
   ]
  },
  {
   "cell_type": "code",
   "execution_count": 39,
   "id": "e68efd02",
   "metadata": {},
   "outputs": [
    {
     "data": {
      "text/plain": [
       "<AxesSubplot:>"
      ]
     },
     "execution_count": 39,
     "metadata": {},
     "output_type": "execute_result"
    },
    {
     "data": {
      "image/png": "[encoded data removed]",
      "text/plain": [
       "<Figure size 432x288 with 1 Axes>"
      ]
     },
     "metadata": {
      "needs_background": "light"
     },
     "output_type": "display_data"
    }
   ],
   "source": [
    "df['Storage'].value_counts()[:5].plot(kind='bar')"
   ]
  },
  {
   "cell_type": "code",
   "execution_count": 40,
   "id": "063a4c38",
   "metadata": {},
   "outputs": [
    {
     "data": {
      "text/plain": [
       "{'whiskers': [<matplotlib.lines.Line2D at 0x2096a572820>,\n",
       "  <matplotlib.lines.Line2D at 0x2096a572b80>],\n",
       " 'caps': [<matplotlib.lines.Line2D at 0x2096a572ee0>,\n",
       "  <matplotlib.lines.Line2D at 0x2096a581280>],\n",
       " 'boxes': [<matplotlib.lines.Line2D at 0x2096a5724c0>],\n",
       " 'medians': [<matplotlib.lines.Line2D at 0x2096a5815e0>],\n",
       " 'fliers': [<matplotlib.lines.Line2D at 0x2096a581940>],\n",
       " 'means': []}"
      ]
     },
     "execution_count": 40,
     "metadata": {},
     "output_type": "execute_result"
    },
    {
     "data": {
      "image/png": "[encoded data removed]",
      "text/plain": [
       "<Figure size 432x288 with 1 Axes>"
      ]
     },
     "metadata": {
      "needs_background": "light"
     },
     "output_type": "display_data"
    }
   ],
   "source": [
    "plt.boxplot(laptop.Price)"
   ]
  },
  {
   "cell_type": "code",
   "execution_count": 41,
   "id": "fc76e526",
   "metadata": {},
   "outputs": [
    {
     "data": {
      "text/plain": [
       "{'whiskers': [<matplotlib.lines.Line2D at 0x2096a54d9a0>,\n",
       "  <matplotlib.lines.Line2D at 0x2096a59d4c0>],\n",
       " 'caps': [<matplotlib.lines.Line2D at 0x2096a59dc70>,\n",
       "  <matplotlib.lines.Line2D at 0x2096a596610>],\n",
       " 'boxes': [<matplotlib.lines.Line2D at 0x2096a54d670>],\n",
       " 'medians': [<matplotlib.lines.Line2D at 0x2096a5a6bb0>],\n",
       " 'fliers': [<matplotlib.lines.Line2D at 0x2096a5ae9a0>],\n",
       " 'means': []}"
      ]
     },
     "execution_count": 41,
     "metadata": {},
     "output_type": "execute_result"
    },
    {
     "data": {
      "image/png": "[encoded data removed]",
      "text/plain": [
       "<Figure size 432x288 with 1 Axes>"
      ]
     },
     "metadata": {
      "needs_background": "light"
     },
     "output_type": "display_data"
    }
   ],
   "source": [
    "plt.boxplot(laptop.Warranty)"
   ]
  },
  {
   "cell_type": "code",
   "execution_count": 42,
   "id": "94e85c21",
   "metadata": {},
   "outputs": [
    {
     "data": {
      "text/plain": [
       "<AxesSubplot:ylabel='Name'>"
      ]
     },
     "execution_count": 42,
     "metadata": {},
     "output_type": "execute_result"
    },
    {
     "data": {
      "image/png": "[encoded data removed]",
      "text/plain": [
       "<Figure size 432x288 with 1 Axes>"
      ]
     },
     "metadata": {},
     "output_type": "display_data"
    }
   ],
   "source": [
    "df['Name'].value_counts()[:5].plot(kind=\"pie\")"
   ]
  },
  {
   "cell_type": "code",
   "execution_count": null,
   "id": "abdfda8d",
   "metadata": {},
   "outputs": [],
   "source": []
  }
 ],
 "metadata": {
  "kernelspec": {
   "display_name": "Python 3",
   "language": "python",
   "name": "python3"
  },
  "language_info": {
   "codemirror_mode": {
    "name": "ipython",
    "version": 3
   },
   "file_extension": ".py",
   "mimetype": "text/x-python",
   "name": "python",
   "nbconvert_exporter": "python",
   "pygments_lexer": "ipython3",
   "version": "3.8.8"
  }
 },
 "nbformat": 4,
 "nbformat_minor": 5
}
